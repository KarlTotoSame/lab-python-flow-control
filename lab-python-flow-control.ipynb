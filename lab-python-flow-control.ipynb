{
 "cells": [
  {
   "cell_type": "markdown",
   "id": "d3bfc191-8885-42ee-b0a0-bbab867c6f9f",
   "metadata": {
    "tags": []
   },
   "source": [
    "# Lab | Flow Control"
   ]
  },
  {
   "cell_type": "markdown",
   "id": "3851fcd1-cf98-4653-9c89-e003b7ec9400",
   "metadata": {},
   "source": [
    "## Exercise: Managing Customer Orders Optimized\n",
    "\n",
    "In the last lab, you were starting an online store that sells various products. To ensure smooth operations, you developed a program that manages customer orders and inventory.\n",
    "\n",
    "You did so without using flow control. Let's go a step further and improve this code.\n",
    "\n",
    "Follow the steps below to complete the exercise:\n",
    "\n",
    "1. Look at your code from the lab data structures, and improve repeated code with loops.\n",
    "\n",
    "2. Instead of asking the user to input the name of three products that a customer wants to order, do the following:\n",
    "    \n",
    "    a. Prompt the user to enter the name of a product that a customer wants to order.\n",
    "    \n",
    "    b. Add the product name to the \"customer_orders\" set.\n",
    "    \n",
    "    c. Ask the user if they want to add another product (yes/no).\n",
    "    \n",
    "    d. Continue the loop until the user does not want to add another product.\n",
    "\n",
    "3. Instead of updating the inventory by subtracting 1 from the quantity of each product, only do it for  the products that were ordered (those in \"customer_orders\")."
   ]
  },
  {
   "cell_type": "code",
   "execution_count": 4,
   "id": "fb72251b",
   "metadata": {},
   "outputs": [],
   "source": [
    "products = [\"t-shirt\",\"mug\",\"hat\",\"book\",\"keychain\"]"
   ]
  },
  {
   "cell_type": "code",
   "execution_count": 5,
   "id": "7cb66694",
   "metadata": {},
   "outputs": [],
   "source": [
    "inventory = {}"
   ]
  },
  {
   "cell_type": "code",
   "execution_count": 6,
   "id": "d4e8c767",
   "metadata": {},
   "outputs": [
    {
     "name": "stdout",
     "output_type": "stream",
     "text": [
      "Input product quantity for t-shirt: 5\n",
      "Input product quantity for mug: 5\n",
      "Input product quantity for hat: 5\n",
      "Input product quantity for book: 5\n",
      "Input product quantity for keychain: 5\n"
     ]
    }
   ],
   "source": [
    "for name in products :\n",
    "    product_quantity = int(input(f\"Input product quantity for {name}: \"))\n",
    "    inventory[name] = product_quantity\n"
   ]
  },
  {
   "cell_type": "code",
   "execution_count": 7,
   "id": "9dff12e9",
   "metadata": {},
   "outputs": [
    {
     "data": {
      "text/plain": [
       "{'t-shirt': 5, 'mug': 5, 'hat': 5, 'book': 5, 'keychain': 5}"
      ]
     },
     "execution_count": 7,
     "metadata": {},
     "output_type": "execute_result"
    }
   ],
   "source": [
    "inventory"
   ]
  },
  {
   "cell_type": "code",
   "execution_count": 27,
   "id": "4f8f830c",
   "metadata": {},
   "outputs": [],
   "source": [
    "customer_orders = set()"
   ]
  },
  {
   "cell_type": "code",
   "execution_count": 29,
   "id": "0ae39a9b",
   "metadata": {},
   "outputs": [
    {
     "name": "stdout",
     "output_type": "stream",
     "text": [
      "Input selected products from ['t-shirt', 'mug', 'hat', 'book', 'keychain']: t-shirt\n",
      "Do you want to add an other product?(Yes or No): Yes\n",
      "Input selected products from ['t-shirt', 'mug', 'hat', 'book', 'keychain']: keychain\n",
      "Do you want to add an other product?(Yes or No): No\n",
      "{'keychain', 't-shirt'}\n"
     ]
    }
   ],
   "source": [
    "while True : \n",
    "    selected_products = str(input(f\"Input selected products from {products}: \"))\n",
    "    customer_orders.add(selected_products)\n",
    "    continue_selecting = input(\"Do you want to add an other product?(Yes or No): \")\n",
    "    if continue_selecting == \"Yes\":\n",
    "        continue\n",
    "    elif continue_selecting != \"Yes\":\n",
    "        break \n",
    "print(customer_orders)"
   ]
  },
  {
   "cell_type": "code",
   "execution_count": 30,
   "id": "0452385c",
   "metadata": {},
   "outputs": [
    {
     "name": "stdout",
     "output_type": "stream",
     "text": [
      "Total product ordered: 2\n"
     ]
    }
   ],
   "source": [
    "total_products_ordered = len(customer_orders)\n",
    "print(\"Total product ordered:\",total_products_ordered)"
   ]
  },
  {
   "cell_type": "code",
   "execution_count": 31,
   "id": "92507bd5",
   "metadata": {},
   "outputs": [
    {
     "name": "stdout",
     "output_type": "stream",
     "text": [
      "Percentage of Products Ordered:  40.0\n"
     ]
    }
   ],
   "source": [
    "percentage_ordered = (len(customer_orders)/len(products))*100\n",
    "print(\"Percentage of Products Ordered: \",percentage_ordered)"
   ]
  },
  {
   "cell_type": "code",
   "execution_count": 12,
   "id": "21e60575",
   "metadata": {},
   "outputs": [],
   "source": [
    "order_status = (total_products_ordered, percentage_ordered)"
   ]
  },
  {
   "cell_type": "code",
   "execution_count": 13,
   "id": "7321df4b",
   "metadata": {},
   "outputs": [
    {
     "name": "stdout",
     "output_type": "stream",
     "text": [
      "Order Statistics:\n",
      "Total product ordered: 3\n",
      "Percentage of Products Ordered:  60.0\n"
     ]
    }
   ],
   "source": [
    "print(\"Order Statistics:\")\n",
    "print(\"Total product ordered:\", order_status[0])\n",
    "print(\"Percentage of Products Ordered: \", order_status[1])"
   ]
  },
  {
   "cell_type": "code",
   "execution_count": 32,
   "id": "e7a1912e",
   "metadata": {},
   "outputs": [
    {
     "name": "stdout",
     "output_type": "stream",
     "text": [
      "Updated inventory: keychain 4\n",
      "Updated inventory: t-shirt 3\n"
     ]
    }
   ],
   "source": [
    "for product in customer_orders :\n",
    "    if product in inventory:\n",
    "        inventory[product] -=1 \n",
    "        print(\"Updated inventory:\",product,inventory[product])"
   ]
  },
  {
   "cell_type": "code",
   "execution_count": null,
   "id": "0dd1d8eb",
   "metadata": {},
   "outputs": [],
   "source": []
  },
  {
   "cell_type": "code",
   "execution_count": null,
   "id": "7e9a4d6a",
   "metadata": {},
   "outputs": [],
   "source": []
  }
 ],
 "metadata": {
  "kernelspec": {
   "display_name": "Python 3 (ipykernel)",
   "language": "python",
   "name": "python3"
  },
  "language_info": {
   "codemirror_mode": {
    "name": "ipython",
    "version": 3
   },
   "file_extension": ".py",
   "mimetype": "text/x-python",
   "name": "python",
   "nbconvert_exporter": "python",
   "pygments_lexer": "ipython3",
   "version": "3.11.3"
  }
 },
 "nbformat": 4,
 "nbformat_minor": 5
}
